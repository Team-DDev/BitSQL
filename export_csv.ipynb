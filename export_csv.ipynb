{
 "cells": [
  {
   "cell_type": "markdown",
   "id": "d263dc2c-dcf7-4417-be65-c269d5a50bc2",
   "metadata": {},
   "source": [
    "## 스키마 변경 전(sqlite schema 그대로)"
   ]
  },
  {
   "cell_type": "markdown",
   "id": "eb45c1dc-3d9d-4102-af5d-db186c07a6bb",
   "metadata": {},
   "source": [
    "index.db"
   ]
  },
  {
   "cell_type": "code",
   "execution_count": null,
   "id": "97ddf7a1-757f-44b1-9743-bfea3a37129e",
   "metadata": {},
   "outputs": [],
   "source": [
    ".headers on\n",
    ".mode csv\n",
    "\n",
    "#BlkID\n",
    ".output BlkID.csv\n",
    "SELECT id, blkhash FROM BlkID;\n",
    "\n",
    "#TxID\n",
    ".output TxID.csv\n",
    "SELECT id, txid FROM TxID;\n",
    "\n",
    "#AddrID\n",
    ".output AddrID.csv\n",
    "SELECT id, addr FROM AddrID;"
   ]
  },
  {
   "cell_type": "markdown",
   "id": "dc99e34d-6ad7-42f7-96ce-8f297c4f7324",
   "metadata": {},
   "source": [
    "core.db"
   ]
  },
  {
   "cell_type": "code",
   "execution_count": null,
   "id": "9aed3c2f-faec-4d42-aa57-5646200686fd",
   "metadata": {},
   "outputs": [],
   "source": [
    ".headers on\n",
    ".mode csv\n",
    "\n",
    "#BlkTime\n",
    ".output BlkTime.csv\n",
    "SELECT blk, unixtime FROM BlkTime;\n",
    "\n",
    "#BlkTx\n",
    ".output BlkTx.csv\n",
    "SELECT blk, tx FROM BlkTx;\n",
    "\n",
    "#TxIn\n",
    ".output TxIn.csv\n",
    "SELECT tx, n, ptx, pn FROM TxIn;\n",
    "\n",
    "#TxOut\n",
    ".output TxOut.csv\n",
    "SELECT tx, n, addr, btc FROM TxOut;"
   ]
  }
 ],
 "metadata": {
  "kernelspec": {
   "display_name": "BitSQL",
   "language": "python",
   "name": "bitsql"
  },
  "language_info": {
   "codemirror_mode": {
    "name": "ipython",
    "version": 3
   },
   "file_extension": ".py",
   "mimetype": "text/x-python",
   "name": "python",
   "nbconvert_exporter": "python",
   "pygments_lexer": "ipython3",
   "version": "3.10.4"
  }
 },
 "nbformat": 4,
 "nbformat_minor": 5
}
