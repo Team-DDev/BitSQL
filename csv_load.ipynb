{
 "cells": [
  {
   "cell_type": "code",
   "execution_count": null,
   "id": "8458e5b2-7112-428e-825c-99fe33e242d7",
   "metadata": {},
   "outputs": [],
   "source": [
    "#connect\n",
    "\n",
    "import sqlite3\n",
    "import pandas as pd\n",
    "import mariadb\n",
    "import secret\n",
    "\n",
    "\n",
    "def main():\n",
    "    conn = mariadb.connect(user=secret.db_username,\n",
    "                           password=secret.db_password,\n",
    "                           host=secret.db_host,\n",
    "                           port=secret.db_port,\n",
    "                           database=secret.db_databasename)\n",
    "    cur = conn.cursor()"
   ]
  },
  {
   "cell_type": "markdown",
   "id": "39415547-3544-439b-8edd-8c627d2c6048",
   "metadata": {},
   "source": [
    "## 스키마 변경 전(sqlite schema 그대로)"
   ]
  },
  {
   "cell_type": "code",
   "execution_count": null,
   "id": "c66814a4-a886-48dd-b7af-3cc130e261cf",
   "metadata": {},
   "outputs": [],
   "source": [
    "cur.execute(\n",
    "    '''CREATE TABLE IF NOT EXISTS BlkID(\n",
    "       id INT NOT NULL,\n",
    "       blkhash CHAR(64) NOT NULL,\n",
    "       PRIMARY KEY(id),\n",
    "       UNIQUE(blkhash));''')\n",
    "cur.execute(\n",
    "    '''CREATE TABLE IF NOT EXISTS TxID(\n",
    "       id INT NOT NULL,\n",
    "       txid CHAR(64) NOT NULL,\n",
    "       PRIMARY KEY(id),\n",
    "       UNIQUE(txid));''')\n",
    "cur.execute(\n",
    "    '''CREATE TABLE IF NOT EXISTS AddrID(\n",
    "       id INT NOT NULL,\n",
    "       addr CHAR(64) NOT NULL,\n",
    "       PRIMARY KEY(id),\n",
    "       UNIQUE(addr));''')\n",
    "cur.execute(\n",
    "    '''CREATE TABLE IF NOT EXISTS BlkTx(\n",
    "       blk INT NOT NULL,\n",
    "       tx INT NOT NULL,\n",
    "       UNIQUE(blk, tx));''')\n",
    "cur.execute(\n",
    "    '''CREATE TABLE IF NOT EXISTS BlkTime(\n",
    "       blk INT NOT NULL,\n",
    "       unixtime INT NOT NULL,\n",
    "       PRIMARY KEY(blk));''')\n",
    "cur.execute(\n",
    "    '''CREATE TABLE IF NOT EXISTS TxIn(\n",
    "       tx INT NOT NULL,\n",
    "       n INT NOT NULL,\n",
    "       ptx INT NOT NULL,\n",
    "       pn INT NOT NULL,\n",
    "       UNIQUE(tx, n));''')\n",
    "cur.execute(\n",
    "    '''CREATE TABLE IF NOT EXISTS TxOut(\n",
    "       tx INT NOT NULL,\n",
    "       n INT NOT NULL,\n",
    "       addr INT NOT NULL,\n",
    "       btc DOUBLE NOT NULL,\n",
    "       UNIQUE(tx, n, addr));''')\n",
    "\n",
    "conn.commit()"
   ]
  },
  {
   "cell_type": "markdown",
   "id": "71986e83-f1c0-457a-a807-a48ed7c5f49b",
   "metadata": {},
   "source": [
    "load csv file to mariaDB"
   ]
  },
  {
   "cell_type": "code",
   "execution_count": null,
   "id": "bc27276b-bc13-4b33-b623-18f47a6f9184",
   "metadata": {},
   "outputs": [],
   "source": [
    "#BlkID\n",
    "cur.execute('SET autocommit = 0;')\n",
    "cur.execute('SET unique_checks = 0;')\n",
    "cur.execute('load data local infile \"BlkID.csv\" into table BlkID columns terminated by \",\" enclosed by \"\\n\" ignore 1 rows;')\n",
    "conn.commit()\n",
    "cur.execute('SET autocommit = 1;')\n",
    "cur.execute('SET unique_checks = 1;')"
   ]
  },
  {
   "cell_type": "code",
   "execution_count": null,
   "id": "0a96b427-f5ae-4141-a96d-14ee0f3d69b0",
   "metadata": {},
   "outputs": [],
   "source": [
    "#TxID\n",
    "cur.execute('SET autocommit = 0;')\n",
    "cur.execute('SET unique_checks = 0;')\n",
    "cur.execute('load data local infile \"TxID.csv\" into table TxID columns terminated by \",\" enclosed by \"\\n\" ignore 1 rows;')\n",
    "conn.commit()\n",
    "cur.execute('SET autocommit = 1;')\n",
    "cur.execute('SET unique_checks = 1;')"
   ]
  },
  {
   "cell_type": "code",
   "execution_count": null,
   "id": "51f9aeb9-f224-4321-a63e-74caa6a95f55",
   "metadata": {},
   "outputs": [],
   "source": [
    "#AddrID\n",
    "cur.execute('SET autocommit = 0;')\n",
    "cur.execute('SET unique_checks = 0;')\n",
    "cur.execute('load data local infile \"AddrID.csv\" into table AddrID columns terminated by \",\" lines terminated by \"\\r\\n\" ignore 1 rows;')\n",
    "conn.commit()\n",
    "cur.execute('SET autocommit = 1;')\n",
    "cur.execute('SET unique_checks = 1;')"
   ]
  },
  {
   "cell_type": "code",
   "execution_count": null,
   "id": "244dfdc7-0798-4aee-8176-527dd3cb78e1",
   "metadata": {},
   "outputs": [],
   "source": [
    "#BlkTx\n",
    "cur.execute('SET autocommit = 0;')\n",
    "cur.execute('SET unique_checks = 0;')\n",
    "cur.execute('load data local infile \"BlkTx.csv\" into table BlkTx columns terminated by \",\" enclosed by \"\\n\" ignore 1 rows;')\n",
    "conn.commit()\n",
    "cur.execute('SET autocommit = 1;')\n",
    "cur.execute('SET unique_checks = 1;')"
   ]
  },
  {
   "cell_type": "code",
   "execution_count": null,
   "id": "a4c88211-0dc1-414c-9719-f409bb60a3be",
   "metadata": {},
   "outputs": [],
   "source": [
    "#BlkTime\n",
    "cur.execute('SET autocommit = 0;')\n",
    "cur.execute('SET unique_checks = 0;')\n",
    "cur.execute('load data local infile \"BlkTime.csv\" into table BlkTime columns terminated by \",\" enclosed by \"\\n\" ignore 1 rows;')\n",
    "conn.commit()\n",
    "cur.execute('SET autocommit = 1;')\n",
    "cur.execute('SET unique_checks = 1;')"
   ]
  },
  {
   "cell_type": "code",
   "execution_count": null,
   "id": "26b264ff-28dc-4ac5-a2ff-77762c70371e",
   "metadata": {},
   "outputs": [],
   "source": [
    "#TxIn\n",
    "cur.execute('SET autocommit = 0;')\n",
    "cur.execute('SET unique_checks = 0;')\n",
    "cur.execute('load data local infile \"TxIn.csv\" into table TxIn columns terminated by \",\" enclosed by \"\\n\" ignore 1 rows;')\n",
    "conn.commit()\n",
    "cur.execute('SET autocommit = 1;')\n",
    "cur.execute('SET unique_checks = 1;')"
   ]
  },
  {
   "cell_type": "code",
   "execution_count": null,
   "id": "3515326a-060e-4df7-9bba-d184d944e355",
   "metadata": {},
   "outputs": [],
   "source": [
    "#TxOut\n",
    "cur.execute('SET autocommit = 0;')\n",
    "cur.execute('SET unique_checks = 0;')\n",
    "cur.execute('load data local infile \"TxOut.csv\" into table TxOut columns terminated by \",\" enclosed by \"\\n\" ignore 1 rows;')\n",
    "conn.commit()\n",
    "cur.execute('SET autocommit = 1;')\n",
    "cur.execute('SET unique_checks = 1;')"
   ]
  },
  {
   "cell_type": "markdown",
   "id": "5ab9b66c-a2ca-40e6-925f-b4732720b8da",
   "metadata": {},
   "source": [
    "## 스키마 변경 후"
   ]
  },
  {
   "cell_type": "code",
   "execution_count": 1,
   "id": "c5918431-9937-4dd2-8574-d6e95cf17aff",
   "metadata": {},
   "outputs": [],
   "source": [
    "cur.execute(\n",
    "    '''CREATE TABLE IF NOT EXISTS blkinfo(\n",
    "       blkid INT NOT NULL,\n",
    "       blkhash CHAR(64) NOT NULL,\n",
    "       miningtime INT NOT NULL,\n",
    "       PRIMARY KEY(blkid),\n",
    "       UNIQUE(blkhash, miningtime));''')\n",
    "\n",
    "cur.execute(\n",
    "    '''CREATE TABLE IF NOT EXISTS txinfo(\n",
    "       txid INT NOT NULL,\n",
    "       txhash CHAR(64) NOT NULL,\n",
    "       blkid INT NOT NULL,\n",
    "       PRIMARY KEY(txid),\n",
    "       FOREIGN KEY(blkid) REFERENCES blkinfo(blkid) ON DELETE CASCADE,\n",
    "       UNIQUE(txhash, blkid));''')\n",
    "\n",
    "cur.execute(\n",
    "    '''CREATE TABLE IF NOT EXISTS addrtype(\n",
    "       addrtypeid INT NOT NULL,\n",
    "       addrtype TEXT NOT NULL,\n",
    "       PRIMARY KEY(addrtypeid),\n",
    "       UNIQUE(addrtype));''')\n",
    "\n",
    "cur.execute(\n",
    "    '''CREATE TABLE IF NOT EXISTS addrinfo(\n",
    "       addrid INT NOT NULL,\n",
    "       addr TEXT NOT NULL,\n",
    "       addrtypeid INT NOT NULL,\n",
    "       blkid INT NOT NULL,\n",
    "       PRIMARY KEY(addrid),\n",
    "       FOREIGN KEY(blkid) REFERENCES blkinfo(blkid) ON DELETE CASCADE,\n",
    "       FOREIGN KEY(addrtypeid) REFERENCES addrtype(addrtypeid),\n",
    "       UNIQUE(addr, addrtypeid, blkid));''')\n",
    "\n",
    "cur.execute(\n",
    "    '''CREATE TABLE IF NOT EXISTS txin(\n",
    "       txid INT NOT NULL,\n",
    "       n INT NOT NULL,\n",
    "       ptxid INT NOT NULL,\n",
    "       pn INT NOT NULL,\n",
    "       FOREIGN KEY(txid) REFERENCES txinfo(txid) ON DELETE CASCADE,\n",
    "       UNIQUE(txid, n));''')\n",
    "\n",
    "cur.execute(\n",
    "    '''CREATE TABLE IF NOT EXISTS txout(\n",
    "       txid INT NOT NULL,\n",
    "       n INT NOT NULL,\n",
    "       addrid INT NOT NULL,\n",
    "       btc DOUBLE NOT NULL,\n",
    "       FOREIGN KEY(txid) REFERENCES txinfo(txid) ON DELETE CASCADE,\n",
    "       UNIQUE(txid, n));''')\n",
    "\n",
    "conn.commit()"
   ]
  },
  {
   "cell_type": "markdown",
   "id": "1e55e2f1-1376-4b2a-b7f9-1417187e99d7",
   "metadata": {},
   "source": [
    "load csv file to mariaDB"
   ]
  },
  {
   "cell_type": "code",
   "execution_count": null,
   "id": "ef724920-1ca8-4e51-89fb-05e1d1501886",
   "metadata": {},
   "outputs": [],
   "source": [
    "cur.execute('load data local infile \"blkinfo.csv\" into table blkinfo columns terminated by \",\" enclosed by \"\\n\" ignore 1 rows;')\n",
    "\n",
    "cur.execute('load data local infile \"txinfo.csv\" into table txinfo columns terminated by \",\" enclosed by \"\\n\" ignore 1 rows;')\n",
    "\n",
    "cur.execute('load data local infile \"addrtype.csv\" into table addrtype columns terminated by \",\" enclosed by \"\\n\" ignore 1 rows;')\n",
    "\n",
    "cur.execute('load data local infile \"addrinfo.csv\" into table addrinfo columns terminated by \",\" enclosed by \"\\n\" ignore 1 rows;')\n",
    "\n",
    "cur.execute('load data local infile \"txin.csv\" into table txin columns terminated by \",\" enclosed by \"\\n\" ignore 1 rows;')\n",
    "\n",
    "cur.execute('load data local infile \"txout.csv\" into table txout columns terminated by \",\" enclosed by \"\\n\" ignore 1 rows;')\n",
    "\n",
    "conn.commit()"
   ]
  }
 ],
 "metadata": {
  "kernelspec": {
   "display_name": "BitSQL",
   "language": "python",
   "name": "bitsql"
  },
  "language_info": {
   "codemirror_mode": {
    "name": "ipython",
    "version": 3
   },
   "file_extension": ".py",
   "mimetype": "text/x-python",
   "name": "python",
   "nbconvert_exporter": "python",
   "pygments_lexer": "ipython3",
   "version": "3.10.4"
  }
 },
 "nbformat": 4,
 "nbformat_minor": 5
}
